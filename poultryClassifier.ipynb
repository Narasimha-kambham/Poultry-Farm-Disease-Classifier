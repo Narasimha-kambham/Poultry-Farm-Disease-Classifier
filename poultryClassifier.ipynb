{
  "nbformat": 4,
  "nbformat_minor": 0,
  "metadata": {
    "colab": {
      "provenance": [],
      "gpuType": "T4"
    },
    "kernelspec": {
      "name": "python3",
      "display_name": "Python 3"
    },
    "language_info": {
      "name": "python"
    },
    "accelerator": "GPU"
  },
  "cells": [
    {
      "cell_type": "code",
      "execution_count": null,
      "metadata": {
        "id": "5V7Z5nX7SgoG"
      },
      "outputs": [],
      "source": [
        "!pip install kagglehub --quiet\n",
        "!pip install tensorflow --quiet\n",
        "!pip install scikit-learn --quiet\n",
        "!pip install pandas matplotlib seaborn opencv-python --quiet\n"
      ]
    },
    {
      "cell_type": "code",
      "source": [
        "import kagglehub\n",
        "\n",
        "# Download dataset\n",
        "path = kagglehub.dataset_download(\"kausthubkannan/poultry-diseases-detection\")\n",
        "\n",
        "print(\"✅ Dataset downloaded.\")\n",
        "print(\"Path to dataset files:\", path)\n"
      ],
      "metadata": {
        "colab": {
          "base_uri": "https://localhost:8080/"
        },
        "id": "jEpu-1bQS3cL",
        "outputId": "a7021c7d-523c-48df-992d-3942e81d60d1"
      },
      "execution_count": null,
      "outputs": [
        {
          "output_type": "stream",
          "name": "stdout",
          "text": [
            "✅ Dataset downloaded.\n",
            "Path to dataset files: /kaggle/input/poultry-diseases-detection\n"
          ]
        }
      ]
    },
    {
      "cell_type": "code",
      "source": [
        "import os\n",
        "\n",
        "dataset_path = \"/kaggle/input/poultry-diseases-detection\"\n",
        "\n",
        "print(\"Contents of dataset folder:\")\n",
        "print(os.listdir(dataset_path))\n"
      ],
      "metadata": {
        "colab": {
          "base_uri": "https://localhost:8080/"
        },
        "id": "s76nsCWsUq93",
        "outputId": "e9ec5717-09b3-4e40-ab5f-a9834797bfe5"
      },
      "execution_count": null,
      "outputs": [
        {
          "output_type": "stream",
          "name": "stdout",
          "text": [
            "Contents of dataset folder:\n",
            "['poultry_diseases']\n"
          ]
        }
      ]
    },
    {
      "cell_type": "code",
      "source": [
        "# Update dataset path to include 'poultry_diseases'\n",
        "dataset_path = os.path.join(dataset_path, \"poultry_diseases\")\n",
        "\n",
        "# List the subfolders (classes)\n",
        "class_folders = os.listdir(dataset_path)\n",
        "print(\"Classes:\", class_folders)\n"
      ],
      "metadata": {
        "id": "srrCuyTQUxtV",
        "colab": {
          "base_uri": "https://localhost:8080/"
        },
        "outputId": "fb1fa163-c975-4e75-f27f-a4e6122bf9eb"
      },
      "execution_count": null,
      "outputs": [
        {
          "output_type": "stream",
          "name": "stdout",
          "text": [
            "Classes: ['salmo', 'healthy', 'ncd', 'cocci']\n"
          ]
        }
      ]
    },
    {
      "cell_type": "code",
      "source": [
        "import pandas as pd\n",
        "\n",
        "image_paths = []\n",
        "labels = []\n",
        "\n",
        "for label in class_folders:\n",
        "    folder_path = os.path.join(dataset_path, label)\n",
        "    for img_file in os.listdir(folder_path):\n",
        "        image_paths.append(os.path.join(folder_path, img_file))\n",
        "        labels.append(label)\n",
        "\n",
        "df = pd.DataFrame({\n",
        "    \"image_path\": image_paths,\n",
        "    \"label\": labels\n",
        "})\n",
        "\n",
        "print(df.head())\n",
        "print(\"\\nTotal images collected:\", len(df))\n"
      ],
      "metadata": {
        "id": "0eCjEaU3U4Ir",
        "colab": {
          "base_uri": "https://localhost:8080/"
        },
        "outputId": "565f6ea1-26a6-46ad-97ba-af9e90323094"
      },
      "execution_count": null,
      "outputs": [
        {
          "output_type": "stream",
          "name": "stdout",
          "text": [
            "                                          image_path  label\n",
            "0  /kaggle/input/poultry-diseases-detection/poult...  salmo\n",
            "1  /kaggle/input/poultry-diseases-detection/poult...  salmo\n",
            "2  /kaggle/input/poultry-diseases-detection/poult...  salmo\n",
            "3  /kaggle/input/poultry-diseases-detection/poult...  salmo\n",
            "4  /kaggle/input/poultry-diseases-detection/poult...  salmo\n",
            "\n",
            "Total images collected: 6812\n"
          ]
        }
      ]
    },
    {
      "cell_type": "code",
      "source": [
        "df['label'].value_counts()\n"
      ],
      "metadata": {
        "id": "cNYI-4KWWDpr",
        "colab": {
          "base_uri": "https://localhost:8080/",
          "height": 241
        },
        "outputId": "b8ec7c44-490a-483f-8c75-850fe88735dc"
      },
      "execution_count": null,
      "outputs": [
        {
          "output_type": "execute_result",
          "data": {
            "text/plain": [
              "label\n",
              "salmo      2276\n",
              "cocci      2103\n",
              "healthy    2057\n",
              "ncd         376\n",
              "Name: count, dtype: int64"
            ],
            "text/html": [
              "<div>\n",
              "<style scoped>\n",
              "    .dataframe tbody tr th:only-of-type {\n",
              "        vertical-align: middle;\n",
              "    }\n",
              "\n",
              "    .dataframe tbody tr th {\n",
              "        vertical-align: top;\n",
              "    }\n",
              "\n",
              "    .dataframe thead th {\n",
              "        text-align: right;\n",
              "    }\n",
              "</style>\n",
              "<table border=\"1\" class=\"dataframe\">\n",
              "  <thead>\n",
              "    <tr style=\"text-align: right;\">\n",
              "      <th></th>\n",
              "      <th>count</th>\n",
              "    </tr>\n",
              "    <tr>\n",
              "      <th>label</th>\n",
              "      <th></th>\n",
              "    </tr>\n",
              "  </thead>\n",
              "  <tbody>\n",
              "    <tr>\n",
              "      <th>salmo</th>\n",
              "      <td>2276</td>\n",
              "    </tr>\n",
              "    <tr>\n",
              "      <th>cocci</th>\n",
              "      <td>2103</td>\n",
              "    </tr>\n",
              "    <tr>\n",
              "      <th>healthy</th>\n",
              "      <td>2057</td>\n",
              "    </tr>\n",
              "    <tr>\n",
              "      <th>ncd</th>\n",
              "      <td>376</td>\n",
              "    </tr>\n",
              "  </tbody>\n",
              "</table>\n",
              "</div><br><label><b>dtype:</b> int64</label>"
            ]
          },
          "metadata": {},
          "execution_count": 7
        }
      ]
    },
    {
      "cell_type": "code",
      "source": [
        "from sklearn.model_selection import train_test_split\n",
        "\n",
        "# First split into train+val and test (15% test)\n",
        "train_val_df, test_df = train_test_split(df, test_size=0.15, stratify=df['label'], random_state=42)\n",
        "\n",
        "# Then split train+val into train and validation (18% val)\n",
        "train_df, val_df = train_test_split(train_val_df, test_size=0.18, stratify=train_val_df['label'], random_state=42)\n",
        "\n",
        "print(f\"Train samples: {len(train_df)}\")\n",
        "print(f\"Validation samples: {len(val_df)}\")\n",
        "print(f\"Test samples: {len(test_df)}\")\n"
      ],
      "metadata": {
        "id": "lQhCJ2FuWKOm",
        "colab": {
          "base_uri": "https://localhost:8080/"
        },
        "outputId": "a1cefe75-769f-4c13-db91-e6f54b717e5a"
      },
      "execution_count": null,
      "outputs": [
        {
          "output_type": "stream",
          "name": "stdout",
          "text": [
            "Train samples: 4747\n",
            "Validation samples: 1043\n",
            "Test samples: 1022\n"
          ]
        }
      ]
    },
    {
      "cell_type": "code",
      "source": [
        "from tensorflow.keras.preprocessing.image import ImageDataGenerator\n",
        "\n",
        "# Create ImageDataGenerator instances\n",
        "train_datagen = ImageDataGenerator(\n",
        "    rescale=1./255,          # Normalize pixel values\n",
        "    horizontal_flip=True,    # Example augmentation\n",
        "    rotation_range=20,\n",
        "    zoom_range=0.15,\n",
        "    shear_range=0.15,\n",
        "    fill_mode='nearest'\n",
        ")\n",
        "\n",
        "val_test_datagen = ImageDataGenerator(rescale=1./255)  # Just normalization for val and test\n",
        "\n",
        "# Helper function to create generator from dataframe\n",
        "def create_generator(df, datagen, batch_size=32):\n",
        "    return datagen.flow_from_dataframe(\n",
        "        dataframe=df,\n",
        "        x_col='image_path',\n",
        "        y_col='label',\n",
        "        target_size=(224,224),\n",
        "        batch_size=batch_size,\n",
        "        class_mode='categorical'  # because labels are categories\n",
        "    )\n",
        "\n",
        "batch_size = 32\n",
        "\n",
        "train_generator = create_generator(train_df, train_datagen, batch_size)\n",
        "val_generator = create_generator(val_df, val_test_datagen, batch_size)\n",
        "test_generator = create_generator(test_df, val_test_datagen, batch_size)\n"
      ],
      "metadata": {
        "id": "N798xq2DWWYf",
        "colab": {
          "base_uri": "https://localhost:8080/"
        },
        "outputId": "0997432c-1d11-4845-f372-bee4dd3fb6fb"
      },
      "execution_count": null,
      "outputs": [
        {
          "output_type": "stream",
          "name": "stdout",
          "text": [
            "Found 4747 validated image filenames belonging to 4 classes.\n",
            "Found 1043 validated image filenames belonging to 4 classes.\n",
            "Found 1022 validated image filenames belonging to 4 classes.\n"
          ]
        }
      ]
    },
    {
      "cell_type": "code",
      "source": [
        "from tensorflow.keras.applications.vgg16 import VGG16\n",
        "from tensorflow.keras.models import Model\n",
        "from tensorflow.keras.layers import Flatten, Dense, Dropout\n",
        "from tensorflow.keras.optimizers import Adam\n",
        "\n",
        "# Load the base model\n",
        "base_model = VGG16(weights='imagenet', include_top=False, input_shape=(224,224,3))\n",
        "\n",
        "# Freeze the base model layers\n",
        "for layer in base_model.layers:\n",
        "    layer.trainable = False\n",
        "\n",
        "# Add custom layers on top\n",
        "x = base_model.output\n",
        "x = Flatten()(x)\n",
        "x = Dense(256, activation='relu')(x)\n",
        "x = Dropout(0.5)(x)\n",
        "predictions = Dense(4, activation='softmax')(x)  # 4 classes\n",
        "\n",
        "# Final model\n",
        "model = Model(inputs=base_model.input, outputs=predictions)\n",
        "\n",
        "# Compile the model\n",
        "model.compile(optimizer=Adam(learning_rate=0.0001), loss='categorical_crossentropy', metrics=['accuracy'])\n",
        "\n",
        "# Summary\n",
        "model.summary()\n"
      ],
      "metadata": {
        "id": "zogchblTWeBP"
      },
      "execution_count": null,
      "outputs": []
    },
    {
      "cell_type": "code",
      "source": [
        "from tensorflow.keras.preprocessing.image import ImageDataGenerator\n",
        "\n",
        "# Define image size and batch size\n",
        "image_size = (224, 224)\n",
        "batch_size = 32\n",
        "\n",
        "# Create data generators with rescaling and augmentation for training\n",
        "train_datagen = ImageDataGenerator(\n",
        "    rescale=1./255,          # Normalize pixel values\n",
        "    rotation_range=20,       # Random rotation for augmentation\n",
        "    zoom_range=0.2,          # Random zoom\n",
        "    horizontal_flip=True,    # Random horizontal flip\n",
        "    validation_split=0.18    # Split some data for validation\n",
        ")\n",
        "\n",
        "# Validation data generator only rescales\n",
        "val_datagen = ImageDataGenerator(rescale=1./255, validation_split=0.18)\n",
        "\n",
        "# Prepare generators to load images from directory\n",
        "train_gen = train_datagen.flow_from_directory(\n",
        "    directory=\"/root/.cache/kagglehub/datasets/kausthubkannan/poultry-diseases-detection/versions/1/poultry_diseases\",\n",
        "    target_size=image_size,\n",
        "    batch_size=batch_size,\n",
        "    class_mode='categorical',\n",
        "    subset='training',\n",
        "    shuffle=True\n",
        ")\n",
        "\n",
        "val_gen = val_datagen.flow_from_directory(\n",
        "    directory=\"/root/.cache/kagglehub/datasets/kausthubkannan/poultry-diseases-detection/versions/1/poultry_diseases\",\n",
        "    target_size=image_size,\n",
        "    batch_size=batch_size,\n",
        "    class_mode='categorical',\n",
        "    subset='validation',\n",
        "    shuffle=False\n",
        ")\n"
      ],
      "metadata": {
        "id": "1KdBTZceW0Mh"
      },
      "execution_count": null,
      "outputs": []
    },
    {
      "cell_type": "code",
      "source": [
        "# Train the model\n",
        "history = model.fit(\n",
        "    train_gen,\n",
        "    steps_per_epoch=train_gen.samples // train_gen.batch_size,\n",
        "    validation_data=val_gen,\n",
        "    validation_steps=val_gen.samples // val_gen.batch_size,\n",
        "    epochs=10\n",
        ")\n"
      ],
      "metadata": {
        "id": "Ymla9GaaWqJT"
      },
      "execution_count": null,
      "outputs": []
    },
    {
      "cell_type": "code",
      "source": [
        "model.save(\"poultry_disease_model.keras\")\n",
        "\n"
      ],
      "metadata": {
        "id": "LZP5lnn9emHw"
      },
      "execution_count": null,
      "outputs": []
    },
    {
      "cell_type": "code",
      "source": [
        "from tensorflow.keras.models import load_model\n",
        "\n",
        "model = load_model(\"poultry_disease_model.keras\")\n",
        "print(\"Model loaded successfully!\")\n"
      ],
      "metadata": {
        "id": "KRaTWoJOe3Wl"
      },
      "execution_count": null,
      "outputs": []
    },
    {
      "cell_type": "code",
      "source": [
        "from google.colab import drive\n",
        "drive.mount('/content/drive')\n"
      ],
      "metadata": {
        "id": "t9FVCBGoffdC"
      },
      "execution_count": null,
      "outputs": []
    },
    {
      "cell_type": "code",
      "source": [
        "model.save('/content/drive/MyDrive/poultry_disease_model.keras')\n"
      ],
      "metadata": {
        "id": "Zd3hDihoftq8"
      },
      "execution_count": null,
      "outputs": []
    },
    {
      "cell_type": "code",
      "source": [
        "from google.colab import drive\n",
        "drive.flush_and_unmount()\n",
        "\n"
      ],
      "metadata": {
        "id": "F0CRzxoOf6jR"
      },
      "execution_count": null,
      "outputs": []
    },
    {
      "cell_type": "code",
      "source": [
        "from tensorflow.keras.preprocessing.image import ImageDataGenerator\n",
        "\n",
        "# Create ImageDataGenerator for rescaling\n",
        "test_datagen = ImageDataGenerator(rescale=1./255)\n",
        "\n",
        "# Recreate the test generator\n",
        "test_gen = test_datagen.flow_from_dataframe(\n",
        "    test_df,\n",
        "    x_col=\"image_path\",\n",
        "    y_col=\"label\",\n",
        "    target_size=(224, 224),\n",
        "    batch_size=32,\n",
        "    class_mode=\"categorical\",\n",
        "    shuffle=False\n",
        ")\n"
      ],
      "metadata": {
        "id": "11TiM593geCW"
      },
      "execution_count": null,
      "outputs": []
    },
    {
      "cell_type": "code",
      "source": [
        "# Evaluate the model\n",
        "test_loss, test_accuracy = model.evaluate(test_gen)\n",
        "\n",
        "print(f\"Test Loss: {test_loss:.4f}\")\n",
        "print(f\"Test Accuracy: {test_accuracy * 100:.2f}%\")\n"
      ],
      "metadata": {
        "id": "oOvUb8yKggP6"
      },
      "execution_count": null,
      "outputs": []
    },
    {
      "cell_type": "code",
      "source": [
        "train_gen.class_indices\n"
      ],
      "metadata": {
        "id": "FIRJ9EDMH_Cb",
        "colab": {
          "base_uri": "https://localhost:8080/",
          "height": 141
        },
        "outputId": "48535004-384b-4dd8-adb6-3c4e3478babc"
      },
      "execution_count": 1,
      "outputs": [
        {
          "output_type": "error",
          "ename": "NameError",
          "evalue": "name 'train_gen' is not defined",
          "traceback": [
            "\u001b[0;31m---------------------------------------------------------------------------\u001b[0m",
            "\u001b[0;31mNameError\u001b[0m                                 Traceback (most recent call last)",
            "\u001b[0;32m/tmp/ipython-input-1-2067369817.py\u001b[0m in \u001b[0;36m<cell line: 0>\u001b[0;34m()\u001b[0m\n\u001b[0;32m----> 1\u001b[0;31m \u001b[0mtrain_gen\u001b[0m\u001b[0;34m.\u001b[0m\u001b[0mclass_indices\u001b[0m\u001b[0;34m\u001b[0m\u001b[0;34m\u001b[0m\u001b[0m\n\u001b[0m",
            "\u001b[0;31mNameError\u001b[0m: name 'train_gen' is not defined"
          ]
        }
      ]
    }
  ]
}